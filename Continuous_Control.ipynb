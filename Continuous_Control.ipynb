{
 "cells": [
  {
   "cell_type": "markdown",
   "id": "dca57162",
   "metadata": {},
   "source": [
    "# Continuous Control Project"
   ]
  },
  {
   "cell_type": "markdown",
   "id": "87a75b37",
   "metadata": {},
   "source": [
    "## Section 1: Setup and Imports"
   ]
  },
  {
   "cell_type": "markdown",
   "id": "4a5de83a",
   "metadata": {},
   "source": [
    "This section prepares the environment by updating system paths, installing dependencies (e.g., NumPy, PyTorch), and importing libraries for numerical operations, randomness, plotting, and Unity environment interaction. It also selects the computation device (GPU or CPU) for efficient processing."
   ]
  },
  {
   "cell_type": "code",
   "execution_count": 1,
   "id": "4ab98089",
   "metadata": {},
   "outputs": [],
   "source": [
    "# Update the PATH env var. \n",
    "import os\n",
    "os.environ['PATH'] = f\"{os.environ['PATH']}:/home/student/.local/bin\"\n",
    "os.environ['PATH'] = f\"{os.environ['PATH']}:/opt/conda/lib/python3.10/site-packages\"\n",
    "os.environ['PROTOCOL_BUFFERS_PYTHON_IMPLEMENTATION'] = 'python'"
   ]
  },
  {
   "cell_type": "code",
   "execution_count": 2,
   "id": "e5553107",
   "metadata": {},
   "outputs": [
    {
     "name": "stdout",
     "output_type": "stream",
     "text": [
      "numpy==1.26.3\r\n"
     ]
    }
   ],
   "source": [
    "!python -m pip freeze | grep numpy"
   ]
  },
  {
   "cell_type": "code",
   "execution_count": 3,
   "id": "3286e346",
   "metadata": {},
   "outputs": [
    {
     "name": "stdout",
     "output_type": "stream",
     "text": [
      "\r\n",
      "\u001b[1m[\u001b[0m\u001b[34;49mnotice\u001b[0m\u001b[1;39;49m]\u001b[0m\u001b[39;49m A new release of pip is available: \u001b[0m\u001b[31;49m23.2.1\u001b[0m\u001b[39;49m -> \u001b[0m\u001b[32;49m25.1.1\u001b[0m\r\n",
      "\u001b[1m[\u001b[0m\u001b[34;49mnotice\u001b[0m\u001b[1;39;49m]\u001b[0m\u001b[39;49m To update, run: \u001b[0m\u001b[32;49mpython3 -m pip install --upgrade pip\u001b[0m\r\n"
     ]
    }
   ],
   "source": [
    "!pip -q install ."
   ]
  },
  {
   "cell_type": "code",
   "execution_count": 4,
   "id": "912db67b",
   "metadata": {},
   "outputs": [
    {
     "name": "stdout",
     "output_type": "stream",
     "text": [
      "Defaulting to user installation because normal site-packages is not writeable\n",
      "Requirement already satisfied: torch in /home/student/.local/lib/python3.11/site-packages (2.7.0)\n",
      "Requirement already satisfied: filelock in /home/student/.local/lib/python3.11/site-packages (from torch) (3.18.0)\n",
      "Requirement already satisfied: typing-extensions>=4.10.0 in /home/student/.local/lib/python3.11/site-packages (from torch) (4.13.2)\n",
      "Requirement already satisfied: sympy>=1.13.3 in /home/student/.local/lib/python3.11/site-packages (from torch) (1.14.0)\n",
      "Requirement already satisfied: networkx in /home/student/.local/lib/python3.11/site-packages (from torch) (3.4.2)\n",
      "Requirement already satisfied: jinja2 in /usr/local/lib/python3.11/dist-packages (from torch) (3.1.3)\n",
      "Requirement already satisfied: fsspec in /usr/local/lib/python3.11/dist-packages (from torch) (2024.3.1)\n",
      "Requirement already satisfied: nvidia-cuda-nvrtc-cu12==12.6.77 in /home/student/.local/lib/python3.11/site-packages (from torch) (12.6.77)\n",
      "Requirement already satisfied: nvidia-cuda-runtime-cu12==12.6.77 in /home/student/.local/lib/python3.11/site-packages (from torch) (12.6.77)\n",
      "Requirement already satisfied: nvidia-cuda-cupti-cu12==12.6.80 in /home/student/.local/lib/python3.11/site-packages (from torch) (12.6.80)\n",
      "Requirement already satisfied: nvidia-cudnn-cu12==9.5.1.17 in /home/student/.local/lib/python3.11/site-packages (from torch) (9.5.1.17)\n",
      "Requirement already satisfied: nvidia-cublas-cu12==12.6.4.1 in /home/student/.local/lib/python3.11/site-packages (from torch) (12.6.4.1)\n",
      "Requirement already satisfied: nvidia-cufft-cu12==11.3.0.4 in /home/student/.local/lib/python3.11/site-packages (from torch) (11.3.0.4)\n",
      "Requirement already satisfied: nvidia-curand-cu12==10.3.7.77 in /home/student/.local/lib/python3.11/site-packages (from torch) (10.3.7.77)\n",
      "Requirement already satisfied: nvidia-cusolver-cu12==11.7.1.2 in /home/student/.local/lib/python3.11/site-packages (from torch) (11.7.1.2)\n",
      "Requirement already satisfied: nvidia-cusparse-cu12==12.5.4.2 in /home/student/.local/lib/python3.11/site-packages (from torch) (12.5.4.2)\n",
      "Requirement already satisfied: nvidia-cusparselt-cu12==0.6.3 in /home/student/.local/lib/python3.11/site-packages (from torch) (0.6.3)\n",
      "Requirement already satisfied: nvidia-nccl-cu12==2.26.2 in /home/student/.local/lib/python3.11/site-packages (from torch) (2.26.2)\n",
      "Requirement already satisfied: nvidia-nvtx-cu12==12.6.77 in /home/student/.local/lib/python3.11/site-packages (from torch) (12.6.77)\n",
      "Requirement already satisfied: nvidia-nvjitlink-cu12==12.6.85 in /home/student/.local/lib/python3.11/site-packages (from torch) (12.6.85)\n",
      "Requirement already satisfied: nvidia-cufile-cu12==1.11.1.6 in /home/student/.local/lib/python3.11/site-packages (from torch) (1.11.1.6)\n",
      "Requirement already satisfied: triton==3.3.0 in /home/student/.local/lib/python3.11/site-packages (from torch) (3.3.0)\n",
      "Requirement already satisfied: setuptools>=40.8.0 in /usr/local/lib/python3.11/dist-packages (from triton==3.3.0->torch) (68.2.2)\n",
      "Requirement already satisfied: mpmath<1.4,>=1.1.0 in /home/student/.local/lib/python3.11/site-packages (from sympy>=1.13.3->torch) (1.3.0)\n",
      "Requirement already satisfied: MarkupSafe>=2.0 in /usr/local/lib/python3.11/dist-packages (from jinja2->torch) (2.1.3)\n",
      "\n",
      "\u001b[1m[\u001b[0m\u001b[34;49mnotice\u001b[0m\u001b[1;39;49m]\u001b[0m\u001b[39;49m A new release of pip is available: \u001b[0m\u001b[31;49m23.2.1\u001b[0m\u001b[39;49m -> \u001b[0m\u001b[32;49m25.1.1\u001b[0m\n",
      "\u001b[1m[\u001b[0m\u001b[34;49mnotice\u001b[0m\u001b[1;39;49m]\u001b[0m\u001b[39;49m To update, run: \u001b[0m\u001b[32;49mpython3 -m pip install --upgrade pip\u001b[0m\n"
     ]
    }
   ],
   "source": [
    "!pip install torch"
   ]
  },
  {
   "cell_type": "markdown",
   "id": "3976ed65",
   "metadata": {},
   "source": [
    "### Restart the Kernel at this step on the first run"
   ]
  },
  {
   "cell_type": "code",
   "execution_count": 5,
   "id": "54e2058e",
   "metadata": {},
   "outputs": [],
   "source": [
    "# Import libraries\n",
    "import numpy as np\n",
    "import random\n",
    "import copy\n",
    "from collections import deque, namedtuple\n",
    "import matplotlib.pyplot as plt\n",
    "import torch\n",
    "import torch.nn as nn\n",
    "import torch.nn.functional as F\n",
    "import torch.optim as optim\n",
    "from unityagents import UnityEnvironment\n",
    "import time\n",
    "import psutil"
   ]
  },
  {
   "cell_type": "code",
   "execution_count": 6,
   "id": "05d41c8c",
   "metadata": {},
   "outputs": [],
   "source": [
    "# Define computation device (GPU if available, else CPU)\n",
    "device = torch.device(\"cuda:0\" if torch.cuda.is_available() else \"cpu\")"
   ]
  },
  {
   "cell_type": "markdown",
   "id": "9f33aecd",
   "metadata": {},
   "source": [
    "## Section 2: Initialize environment"
   ]
  },
  {
   "cell_type": "markdown",
   "id": "d638e0e7",
   "metadata": {},
   "source": [
    "Here, the Unity Reacher environment is loaded, and critical parameters—number of agents, action size (4), and state size (33)—are extracted and displayed. This confirms the environment is ready for multi-agent training.\n",
    "\n"
   ]
  },
  {
   "cell_type": "code",
   "execution_count": 7,
   "id": "61b7c5dd",
   "metadata": {},
   "outputs": [
    {
     "name": "stdout",
     "output_type": "stream",
     "text": [
      "Found path: /data/Reacher_Linux_NoVis/Reacher.x86_64\n",
      "Mono path[0] = '/data/Reacher_Linux_NoVis/Reacher_Data/Managed'\n",
      "Mono config path = '/data/Reacher_Linux_NoVis/Reacher_Data/MonoBleedingEdge/etc'\n",
      "Preloaded 'libgrpc_csharp_ext.x64.so'\n",
      "Unable to preload the following plugins:\n",
      "\tlibgrpc_csharp_ext.x86.so\n",
      "Logging to /home/student/.config/unity3d/Unity Technologies/Unity Environment/Player.log\n"
     ]
    },
    {
     "name": "stderr",
     "output_type": "stream",
     "text": [
      "INFO:unityagents:\n",
      "'Academy' started successfully!\n",
      "Unity Academy name: Academy\n",
      "        Number of Brains: 1\n",
      "        Number of External Brains : 1\n",
      "        Lesson number : 0\n",
      "        Reset Parameters :\n",
      "\t\tgoal_size -> 5.0\n",
      "\t\tgoal_speed -> 1.0\n",
      "Unity brain name: ReacherBrain\n",
      "        Number of Visual Observations (per agent): 0\n",
      "        Vector Observation space type: continuous\n",
      "        Vector Observation space size (per agent): 33\n",
      "        Number of stacked Vector Observation: 1\n",
      "        Vector Action space type: continuous\n",
      "        Vector Action space size (per agent): 4\n",
      "        Vector Action descriptions: , , , \n"
     ]
    },
    {
     "name": "stdout",
     "output_type": "stream",
     "text": [
      "Number of agents: 20\n",
      "Size of each action: 4\n",
      "State size per agent: 33\n"
     ]
    }
   ],
   "source": [
    "# Initialize environment\n",
    "env = UnityEnvironment(file_name='/data/Reacher_Linux_NoVis/Reacher.x86_64')\n",
    "brain_name = env.brain_names[0]\n",
    "brain = env.brains[brain_name]\n",
    "env_info = env.reset(train_mode=True)[brain_name]\n",
    "num_agents = len(env_info.agents)\n",
    "action_size = brain.vector_action_space_size\n",
    "states = env_info.vector_observations\n",
    "state_size = states.shape[1]\n",
    "print(f'Number of agents: {num_agents}')\n",
    "print(f'Size of each action: {action_size}')\n",
    "print(f'State size per agent: {state_size}')"
   ]
  },
  {
   "cell_type": "markdown",
   "id": "4077a8e7",
   "metadata": {},
   "source": [
    "## Section 3: State and Action Space Explanation"
   ]
  },
  {
   "cell_type": "markdown",
   "id": "1232ac15",
   "metadata": {},
   "source": [
    "In the Reacher environment, the objective is for a double-jointed robotic arm to move its end-effector to follow a moving target as closely as possible. The environment features a continuous state space and a continuous action space, which define how the agent observes its surroundings and takes actions."
   ]
  },
  {
   "cell_type": "markdown",
   "id": "20e7b6be",
   "metadata": {},
   "source": [
    "#### State Space (Observations)\n",
    "The state space is a 33-dimensional continuous vector that captures the current state of the robotic arm and its relationship to the target. The components of this vector include:\n",
    "- Joint Positions: Spatial coordinates of the arm's joints.\n",
    "\n",
    "- Joint Rotations: Orientation of the joints.\n",
    "\n",
    "- Joint Velocities: Speed of the joints' movements.\n",
    "\n",
    "- Angular Velocities: Rate of rotation of the joints.\n",
    "\n",
    "- Target Position: Coordinates of the moving target the arm must track.\n",
    "\n",
    "This 33-element observation vector is updated at each time step, providing the agent with a detailed snapshot of the arm's dynamics and the target's location.\n",
    "\n"
   ]
  },
  {
   "cell_type": "markdown",
   "id": "487c7c34",
   "metadata": {},
   "source": [
    "#### Action Space\n",
    "The action space is continuous and consists of a 4-dimensional vector, where each value ranges from -1 to 1. These values represent the torques applied to the arm's joints:\n",
    "- Action 0: Torque for the first joint.\n",
    "\n",
    "- Action 1: Torque for the second joint.\n",
    "\n",
    "- Action 2: Torque for the third joint.\n",
    "\n",
    "- Action 3: Torque for the fourth joint.\n",
    "\n",
    "By adjusting these torques, the agent controls the arm's movement to align the end-effector with the target."
   ]
  },
  {
   "cell_type": "markdown",
   "id": "fa06f586",
   "metadata": {},
   "source": [
    "## Section 4: Utility functions"
   ]
  },
  {
   "cell_type": "markdown",
   "id": "ad119fe0",
   "metadata": {},
   "source": [
    "- hidden_init initializes neural network weights for stability.\n",
    "- cleanup_zombie_processes terminates lingering Reacher processes to free system resources.\n",
    "\n"
   ]
  },
  {
   "cell_type": "code",
   "execution_count": 8,
   "id": "422c0586",
   "metadata": {},
   "outputs": [],
   "source": [
    "def hidden_init(layer):\n",
    "    \"\"\"Initialize hidden layer weights with uniform distribution.\"\"\"\n",
    "    fan_in = layer.weight.data.size()[0]\n",
    "    lim = 1. / np.sqrt(fan_in)\n",
    "    return (-lim, lim)"
   ]
  },
  {
   "cell_type": "code",
   "execution_count": 9,
   "id": "19dc67f7",
   "metadata": {},
   "outputs": [],
   "source": [
    "def cleanup_zombie_processes():\n",
    "    \"\"\"Terminate parent processes of zombie Reacher instances.\"\"\"\n",
    "    for proc in psutil.process_iter(['pid', 'ppid', 'name', 'status']):\n",
    "        if 'Reacher' in proc.info['name'] and proc.info['status'] == psutil.STATUS_ZOMBIE:\n",
    "            print(f\"Zombie process detected: {proc.info}\")\n",
    "            parent = psutil.Process(proc.info['ppid'])\n",
    "            print(f\"Terminating parent process: {parent}\")\n",
    "            parent.terminate()"
   ]
  },
  {
   "cell_type": "markdown",
   "id": "c48471fa",
   "metadata": {},
   "source": [
    "## Section 5: Actor and Critics Networks"
   ]
  },
  {
   "cell_type": "markdown",
   "id": "89b396cd",
   "metadata": {},
   "source": [
    "The Actor network maps states to actions using ReLU and tanh activations, while the Critic network estimates Q-values for state-action pairs with leaky ReLU activations. Both use feedforward architectures with weight initialization for training stability.\n",
    "\n"
   ]
  },
  {
   "cell_type": "code",
   "execution_count": 10,
   "id": "18eb888d",
   "metadata": {},
   "outputs": [],
   "source": [
    "class Actor(nn.Module):\n",
    "    \"\"\"Actor network mapping states to actions.\"\"\"\n",
    "    def __init__(self, state_size, action_size, seed, fc1_units=400, fc2_units=300):\n",
    "        \"\"\"\n",
    "        Args:\n",
    "            state_size (int): State dimension\n",
    "            action_size (int): Action dimension\n",
    "            seed (int): Random seed for reproducibility\n",
    "            fc1_units (int): Units in first hidden layer\n",
    "            fc2_units (int): Units in second hidden layer\n",
    "        \"\"\"\n",
    "        super(Actor, self).__init__()\n",
    "        self.seed = torch.manual_seed(seed)\n",
    "        self.fc1 = nn.Linear(state_size, fc1_units)\n",
    "        self.bn1 = nn.BatchNorm1d(fc1_units)\n",
    "        self.fc2 = nn.Linear(fc1_units, fc2_units)\n",
    "        self.fc3 = nn.Linear(fc2_units, action_size)\n",
    "        self.reset_parameters()\n",
    "\n",
    "    def reset_parameters(self):\n",
    "        \"\"\"Set initial weights using uniform distribution.\"\"\"\n",
    "        self.fc1.weight.data.uniform_(*hidden_init(self.fc1))\n",
    "        self.fc2.weight.data.uniform_(*hidden_init(self.fc2))\n",
    "        self.fc3.weight.data.uniform_(-3e-3, 3e-3)\n",
    "\n",
    "    def forward(self, state):\n",
    "        \"\"\"Map state to action using ReLU and tanh activations.\"\"\"\n",
    "        x = F.relu(self.bn1(self.fc1(state)))\n",
    "        x = F.relu(self.fc2(x))\n",
    "        return torch.tanh(self.fc3(x))"
   ]
  },
  {
   "cell_type": "code",
   "execution_count": 11,
   "id": "2a10c79f",
   "metadata": {},
   "outputs": [],
   "source": [
    "class Critic(nn.Module):\n",
    "    \"\"\"Critic network estimating Q-values for state-action pairs.\"\"\"\n",
    "    def __init__(self, state_size, action_size, seed, fcs1_units=400, fc2_units=300):\n",
    "        \"\"\"\n",
    "        Args:\n",
    "            state_size (int): State dimension\n",
    "            action_size (int): Action dimension\n",
    "            seed (int): Random seed for reproducibility\n",
    "            fcs1_units (int): Units in first hidden layer\n",
    "            fc2_units (int): Units in second hidden layer\n",
    "        \"\"\"\n",
    "        super(Critic, self).__init__()\n",
    "        self.seed = torch.manual_seed(seed)\n",
    "        self.fcs1 = nn.Linear(state_size, fcs1_units)\n",
    "        self.bn1 = nn.BatchNorm1d(fcs1_units)\n",
    "        self.fc2 = nn.Linear(fcs1_units + action_size, fc2_units)\n",
    "        self.fc3 = nn.Linear(fc2_units, 1)\n",
    "        self.reset_parameters()\n",
    "\n",
    "    def reset_parameters(self):\n",
    "        \"\"\"Set initial weights using uniform distribution.\"\"\"\n",
    "        self.fcs1.weight.data.uniform_(*hidden_init(self.fcs1))\n",
    "        self.fc2.weight.data.uniform_(*hidden_init(self.fc2))\n",
    "        self.fc3.weight.data.uniform_(-3e-3, 3e-3)\n",
    "\n",
    "    def forward(self, state, action):\n",
    "        \"\"\"Map (state, action) to Q-value using leaky ReLU activations.\"\"\"\n",
    "        xs = F.leaky_relu(self.bn1(self.fcs1(state)))\n",
    "        x = torch.cat((xs, action), dim=1)\n",
    "        x = F.leaky_relu(self.fc2(x))\n",
    "        return self.fc3(x)"
   ]
  },
  {
   "cell_type": "markdown",
   "id": "c96b2fbe",
   "metadata": {},
   "source": [
    "## Section 6: Replay Buffer and Ornstein-Uhlenbeck Noise"
   ]
  },
  {
   "cell_type": "markdown",
   "id": "4d459b5f",
   "metadata": {},
   "source": [
    "The Replay Buffer stores experience tuples (state, action, reward, next state, done) for off-policy learning, sampling random batches. The OUNoise class adds exploration noise to actions using the Ornstein-Uhlenbeck process, aiding policy discovery.\n",
    "\n"
   ]
  },
  {
   "cell_type": "code",
   "execution_count": 12,
   "id": "937ca1c7",
   "metadata": {},
   "outputs": [],
   "source": [
    "class ReplayBuffer:\n",
    "    \"\"\"Buffer storing experience tuples for off-policy learning.\"\"\"\n",
    "    def __init__(self, action_size, buffer_size, batch_size, seed):\n",
    "        \"\"\"\n",
    "        Args:\n",
    "            action_size (int): Action dimension\n",
    "            buffer_size (int): Maximum buffer capacity\n",
    "            batch_size (int): Size of sampled batches\n",
    "            seed (int): Random seed for reproducibility\n",
    "        \"\"\"\n",
    "        self.action_size = action_size\n",
    "        self.memory = deque(maxlen=buffer_size)\n",
    "        self.batch_size = batch_size\n",
    "        self.experience = namedtuple(\"Experience\", field_names=[\"state\", \"action\", \"reward\", \"next_state\", \"done\"])\n",
    "        self.seed = random.seed(seed)\n",
    "\n",
    "    def add(self, state, action, reward, next_state, done):\n",
    "        \"\"\"Store a new experience tuple.\"\"\"\n",
    "        e = self.experience(state, action, reward, next_state, done)\n",
    "        self.memory.append(e)\n",
    "\n",
    "    def sample(self):\n",
    "        \"\"\"Sample a random batch of experiences.\"\"\"\n",
    "        experiences = random.sample(self.memory, k=self.batch_size)\n",
    "        states = torch.from_numpy(np.vstack([e.state for e in experiences])).float().to(device)\n",
    "        actions = torch.from_numpy(np.vstack([e.action for e in experiences])).float().to(device)\n",
    "        rewards = torch.from_numpy(np.vstack([e.reward for e in experiences])).float().to(device)\n",
    "        next_states = torch.from_numpy(np.vstack([e.next_state for e in experiences])).float().to(device)\n",
    "        dones = torch.from_numpy(np.vstack([e.done for e in experiences]).astype(np.uint8)).float().to(device)\n",
    "        return (states, actions, rewards, next_states, dones)\n",
    "\n",
    "    def __len__(self):\n",
    "        \"\"\"Return current buffer size.\"\"\"\n",
    "        return len(self.memory)\n"
   ]
  },
  {
   "cell_type": "code",
   "execution_count": 13,
   "id": "81ea196e",
   "metadata": {},
   "outputs": [],
   "source": [
    "class OUNoise:\n",
    "    \"\"\"Ornstein-Uhlenbeck noise for action exploration.\"\"\"\n",
    "    def __init__(self, size, seed, mu=0., theta=0.15, sigma=0.2):\n",
    "        \"\"\"\n",
    "        Args:\n",
    "            size (int): Action dimension\n",
    "            seed (int): Random seed for reproducibility\n",
    "            mu (float): Mean of noise\n",
    "            theta (float): Drift coefficient\n",
    "            sigma (float): Volatility coefficient\n",
    "        \"\"\"\n",
    "        self.mu = mu * np.ones(size)\n",
    "        self.theta = theta\n",
    "        self.sigma = sigma\n",
    "        self.seed = random.seed(seed)\n",
    "        self.reset()\n",
    "\n",
    "    def reset(self):\n",
    "        \"\"\"Reset noise state to mean.\"\"\"\n",
    "        self.state = copy.copy(self.mu)\n",
    "\n",
    "    def sample(self):\n",
    "        \"\"\"Generate noise sample and update internal state.\"\"\"\n",
    "        x = self.state\n",
    "        dx = self.theta * (self.mu - x) + self.sigma * np.random.randn(len(x))\n",
    "        self.state = x + dx\n",
    "        return self.state"
   ]
  },
  {
   "cell_type": "markdown",
   "id": "4b31dc5a",
   "metadata": {},
   "source": [
    "## Section 7: DDPG Agent"
   ]
  },
  {
   "cell_type": "markdown",
   "id": "706513cf",
   "metadata": {},
   "source": [
    "The DDPG Agent class combines actor and critic networks, noise, and replay buffer. It handles action selection, learning updates via sampled experiences, and smooth target network updates using a soft update mechanism.\n",
    "\n"
   ]
  },
  {
   "cell_type": "code",
   "execution_count": 14,
   "id": "7f65d038",
   "metadata": {},
   "outputs": [],
   "source": [
    "class Agent:\n",
    "    \"\"\"DDPG agent for environment interaction and learning.\"\"\"\n",
    "    def __init__(self, state_size, action_size, random_seed):\n",
    "        \"\"\"\n",
    "        Args:\n",
    "            state_size (int): State dimension\n",
    "            action_size (int): Action dimension\n",
    "            random_seed (int): Random seed for reproducibility\n",
    "        \"\"\"\n",
    "        self.state_size = state_size\n",
    "        self.action_size = action_size\n",
    "        self.seed = random.seed(random_seed)\n",
    "\n",
    "        # Actor networks\n",
    "        self.actor_local = Actor(state_size, action_size, random_seed).to(device)\n",
    "        self.actor_target = Actor(state_size, action_size, random_seed).to(device)\n",
    "        self.actor_optimizer = optim.Adam(self.actor_local.parameters(), lr=LR_ACTOR)\n",
    "\n",
    "        # Critic networks\n",
    "        self.critic_local = Critic(state_size, action_size, random_seed).to(device)\n",
    "        self.critic_target = Critic(state_size, action_size, random_seed).to(device)\n",
    "        self.critic_optimizer = optim.Adam(self.critic_local.parameters(), lr=LR_CRITIC, weight_decay=WEIGHT_DECAY)\n",
    "\n",
    "        # Exploration noise\n",
    "        self.noise = OUNoise(action_size, random_seed)\n",
    "\n",
    "        # Experience replay\n",
    "        self.memory = ReplayBuffer(action_size, BUFFER_SIZE, BATCH_SIZE, random_seed)\n",
    "\n",
    "    def step(self, state, action, reward, next_state, done):\n",
    "        \"\"\"Add experience to buffer.\"\"\"\n",
    "        self.memory.add(state, action, reward, next_state, done)\n",
    "\n",
    "    def act(self, state, add_noise=True):\n",
    "        \"\"\"Generate action for a given state.\"\"\"\n",
    "        state = torch.from_numpy(state).float().to(device)\n",
    "        self.actor_local.eval()\n",
    "        with torch.no_grad():\n",
    "            action = self.actor_local(state).cpu().data.numpy()\n",
    "        self.actor_local.train()\n",
    "        if add_noise:\n",
    "            action += self.noise.sample()\n",
    "        return np.clip(action, -1, 1)\n",
    "\n",
    "    def reset(self):\n",
    "        \"\"\"Reset noise process.\"\"\"\n",
    "        self.noise.reset()\n",
    "\n",
    "    def start_learn(self):\n",
    "        \"\"\"Trigger learning if buffer has sufficient samples.\"\"\"\n",
    "        if len(self.memory) > BATCH_SIZE:\n",
    "            experiences = self.memory.sample()\n",
    "            self.learn(experiences, GAMMA)\n",
    "\n",
    "    def learn(self, experiences, gamma):\n",
    "        \"\"\"\n",
    "        Update networks using a batch of experiences.\n",
    "        \n",
    "        Args:\n",
    "            experiences (tuple): Batch of (state, action, reward, next_state, done)\n",
    "            gamma (float): Discount factor\n",
    "        \"\"\"\n",
    "        states, actions, rewards, next_states, dones = experiences\n",
    "\n",
    "        # Update critic\n",
    "        actions_next = self.actor_target(next_states)\n",
    "        Q_targets_next = self.critic_target(next_states, actions_next)\n",
    "        Q_targets = rewards + (gamma * Q_targets_next * (1 - dones))\n",
    "        Q_expected = self.critic_local(states, actions)\n",
    "        critic_loss = F.mse_loss(Q_expected, Q_targets)\n",
    "        self.critic_optimizer.zero_grad()\n",
    "        critic_loss.backward()\n",
    "        torch.nn.utils.clip_grad_norm_(self.critic_local.parameters(), 1)\n",
    "        self.critic_optimizer.step()\n",
    "\n",
    "        # Update actor\n",
    "        actions_pred = self.actor_local(states)\n",
    "        actor_loss = -self.critic_local(states, actions_pred).mean()\n",
    "        self.actor_optimizer.zero_grad()\n",
    "        actor_loss.backward()\n",
    "        self.actor_optimizer.step()\n",
    "\n",
    "        # Update target networks\n",
    "        self.soft_update(self.critic_local, self.critic_target, TAU)\n",
    "        self.soft_update(self.actor_local, self.actor_target, TAU)\n",
    "\n",
    "    def soft_update(self, local_model, target_model, tau):\n",
    "        \"\"\"Update target network parameters smoothly.\n",
    "        \n",
    "        Args:\n",
    "            local_model (nn.Module): Source model\n",
    "            target_model (nn.Module): Target model\n",
    "            tau (float): Interpolation factor\n",
    "        \"\"\"\n",
    "        for target_param, local_param in zip(target_model.parameters(), local_model.parameters()):\n",
    "            target_param.data.copy_(tau * local_param.data + (1.0 - tau) * target_param.data)"
   ]
  },
  {
   "cell_type": "markdown",
   "id": "195d0125",
   "metadata": {},
   "source": [
    "## Section 8: Training the Agent"
   ]
  },
  {
   "cell_type": "markdown",
   "id": "0c9c635a",
   "metadata": {},
   "source": [
    "This section sets hyperparameters (e.g., buffer size, learning rates) and defines the DDPG training loop. The agent interacts with the environment, learns from experiences, and tracks scores until achieving a goal (average score ≥ 30). Results are plotted for analysis.\n",
    "\n"
   ]
  },
  {
   "cell_type": "code",
   "execution_count": 15,
   "id": "5ced8af9",
   "metadata": {},
   "outputs": [],
   "source": [
    "# Hyperparameters\n",
    "BUFFER_SIZE = int(1e6)  # Replay buffer capacity\n",
    "BATCH_SIZE = 1024       # Minibatch size for learning\n",
    "GAMMA = 0.99            # Discount factor for future rewards\n",
    "TAU = 1e-3              # Soft update interpolation parameter\n",
    "LR_ACTOR = 1e-3         # Actor network learning rate\n",
    "LR_CRITIC = 1e-3        # Critic network learning rate\n",
    "WEIGHT_DECAY = 0        # L2 weight decay for critic optimization"
   ]
  },
  {
   "cell_type": "code",
   "execution_count": 16,
   "id": "d544d97a",
   "metadata": {},
   "outputs": [],
   "source": [
    "# Initialize agent\n",
    "random_seed = 0\n",
    "agent = Agent(state_size=state_size, action_size=action_size, random_seed=random_seed)"
   ]
  },
  {
   "cell_type": "code",
   "execution_count": 17,
   "id": "3a67df07",
   "metadata": {},
   "outputs": [],
   "source": [
    "# DDPG training function\n",
    "def ddpg(n_episodes=2000, max_t=1000, print_every=10, learn_every=20, num_learn=10, goal_score=30):\n",
    "    \"\"\"\n",
    "    Train DDPG agent in the Reacher environment.\n",
    "    \n",
    "    Args:\n",
    "        n_episodes (int): Maximum number of episodes\n",
    "        max_t (int): Maximum timesteps per episode\n",
    "        print_every (int): Interval for printing progress\n",
    "        learn_every (int): Interval for learning updates\n",
    "        num_learn (int): Number of learning updates per cycle\n",
    "        goal_score (float): Target average score to solve environment\n",
    "    \n",
    "    Returns:\n",
    "        list: Scores per episode\n",
    "    \"\"\"\n",
    "    scores_deque = deque(maxlen=100)\n",
    "    scores = []\n",
    "\n",
    "    for i_episode in range(1, n_episodes + 1):\n",
    "        env_info = env.reset(train_mode=True)[brain_name]\n",
    "        states = env_info.vector_observations\n",
    "        agent.reset()\n",
    "        episode_scores = np.zeros(num_agents)\n",
    "        start_time = time.time()\n",
    "\n",
    "        for t in range(max_t):\n",
    "            actions = agent.act(states, add_noise=True)\n",
    "            env_info = env.step(actions)[brain_name]\n",
    "            next_states = env_info.vector_observations\n",
    "            rewards = env_info.rewards\n",
    "            dones = env_info.local_done\n",
    "\n",
    "            for state, action, reward, next_state, done in zip(states, actions, rewards, next_states, dones):\n",
    "                agent.step(state, action, reward, next_state, done)\n",
    "\n",
    "            states = next_states\n",
    "            episode_scores += rewards\n",
    "\n",
    "            if t % learn_every == 0:\n",
    "                for _ in range(num_learn):\n",
    "                    agent.start_learn()\n",
    "\n",
    "            if any(dones):\n",
    "                break\n",
    "\n",
    "        duration = time.time() - start_time\n",
    "        mean_score = np.mean(episode_scores)\n",
    "        scores_deque.append(mean_score)\n",
    "        scores.append(mean_score)\n",
    "        avg_score = np.mean(scores_deque)\n",
    "\n",
    "        print(f'\\rEpisode {i_episode}\\tAvg Score: {avg_score:.2f}\\tMean: {mean_score:.2f}\\t'\n",
    "              f'Min: {np.min(episode_scores):.2f}\\tMax: {np.max(episode_scores):.2f}\\tTime: {duration:.2f}s')\n",
    "\n",
    "        if i_episode % print_every == 0:\n",
    "            torch.save(agent.actor_local.state_dict(), 'checkpoint_actor.pth')\n",
    "            torch.save(agent.critic_local.state_dict(), 'checkpoint_critic.pth')\n",
    "            print(f'\\rEpisode {i_episode}\\tAvg Score: {avg_score:.2f}\\tTime: {duration:.2f}s')\n",
    "\n",
    "        if avg_score >= goal_score and i_episode >= 100:\n",
    "            print(f'\\nEnvironment solved in {i_episode} episodes!\\tAverage Score: {avg_score:.2f}')\n",
    "            torch.save(agent.actor_local.state_dict(), 'checkpoint_actor.pth')\n",
    "            torch.save(agent.critic_local.state_dict(), 'checkpoint_critic.pth')\n",
    "            break\n",
    "\n",
    "    return scores\n"
   ]
  },
  {
   "cell_type": "code",
   "execution_count": 18,
   "id": "44719d6a",
   "metadata": {},
   "outputs": [
    {
     "name": "stdout",
     "output_type": "stream",
     "text": [
      "Episode 1\tAvg Score: 0.27\tMean: 0.27\tMin: 0.00\tMax: 0.85\tTime: 232.06s\n",
      "Episode 2\tAvg Score: 0.30\tMean: 0.32\tMin: 0.00\tMax: 1.02\tTime: 245.50s\n",
      "Episode 3\tAvg Score: 0.36\tMean: 0.49\tMin: 0.00\tMax: 1.21\tTime: 246.40s\n",
      "Episode 4\tAvg Score: 0.42\tMean: 0.61\tMin: 0.00\tMax: 1.27\tTime: 244.79s\n",
      "Episode 5\tAvg Score: 0.40\tMean: 0.30\tMin: 0.00\tMax: 0.68\tTime: 244.00s\n",
      "Episode 6\tAvg Score: 0.42\tMean: 0.51\tMin: 0.00\tMax: 1.91\tTime: 244.61s\n",
      "Episode 7\tAvg Score: 0.47\tMean: 0.77\tMin: 0.18\tMax: 2.49\tTime: 243.50s\n",
      "Episode 8\tAvg Score: 0.57\tMean: 1.25\tMin: 0.07\tMax: 4.33\tTime: 240.28s\n",
      "Episode 9\tAvg Score: 0.65\tMean: 1.28\tMin: 0.00\tMax: 2.95\tTime: 232.20s\n",
      "Episode 10\tAvg Score: 0.75\tMean: 1.66\tMin: 0.00\tMax: 2.89\tTime: 224.18s\n",
      "Episode 10\tAvg Score: 0.75\tTime: 224.18s\n",
      "Episode 11\tAvg Score: 0.86\tMean: 2.00\tMin: 0.64\tMax: 4.29\tTime: 226.58s\n",
      "Episode 12\tAvg Score: 0.99\tMean: 2.38\tMin: 0.00\tMax: 4.56\tTime: 229.79s\n",
      "Episode 13\tAvg Score: 1.10\tMean: 2.50\tMin: 0.16\tMax: 5.50\tTime: 228.72s\n",
      "Episode 14\tAvg Score: 1.36\tMean: 4.62\tMin: 1.36\tMax: 10.10\tTime: 229.50s\n",
      "Episode 15\tAvg Score: 1.54\tMean: 4.12\tMin: 1.55\tMax: 8.69\tTime: 234.21s\n",
      "Episode 16\tAvg Score: 1.77\tMean: 5.29\tMin: 1.72\tMax: 10.30\tTime: 232.01s\n",
      "Episode 17\tAvg Score: 2.09\tMean: 7.05\tMin: 1.57\tMax: 14.22\tTime: 239.78s\n",
      "Episode 18\tAvg Score: 2.43\tMean: 8.23\tMin: 3.16\tMax: 14.91\tTime: 242.10s\n",
      "Episode 19\tAvg Score: 2.91\tMean: 11.66\tMin: 0.23\tMax: 20.29\tTime: 241.60s\n",
      "Episode 20\tAvg Score: 3.28\tMean: 10.20\tMin: 3.84\tMax: 23.92\tTime: 243.09s\n",
      "Episode 20\tAvg Score: 3.28\tTime: 243.09s\n",
      "Episode 21\tAvg Score: 3.85\tMean: 15.30\tMin: 2.81\tMax: 38.41\tTime: 242.79s\n",
      "Episode 22\tAvg Score: 4.49\tMean: 17.97\tMin: 8.53\tMax: 29.12\tTime: 245.38s\n",
      "Episode 23\tAvg Score: 5.17\tMean: 20.05\tMin: 11.90\tMax: 39.08\tTime: 247.00s\n",
      "Episode 24\tAvg Score: 5.87\tMean: 22.09\tMin: 12.58\tMax: 28.91\tTime: 252.79s\n",
      "Episode 25\tAvg Score: 6.43\tMean: 19.79\tMin: 9.17\tMax: 26.16\tTime: 251.89s\n",
      "Episode 26\tAvg Score: 7.18\tMean: 25.87\tMin: 18.83\tMax: 33.39\tTime: 253.30s\n",
      "Episode 27\tAvg Score: 7.99\tMean: 29.10\tMin: 18.96\tMax: 39.65\tTime: 250.58s\n",
      "Episode 28\tAvg Score: 8.67\tMean: 27.16\tMin: 16.63\tMax: 38.22\tTime: 254.79s\n",
      "Episode 29\tAvg Score: 9.42\tMean: 30.38\tMin: 21.21\tMax: 35.38\tTime: 250.99s\n",
      "Episode 30\tAvg Score: 10.10\tMean: 29.84\tMin: 22.20\tMax: 36.83\tTime: 249.90s\n",
      "Episode 30\tAvg Score: 10.10\tTime: 249.90s\n",
      "Episode 31\tAvg Score: 10.82\tMean: 32.36\tMin: 25.57\tMax: 39.17\tTime: 253.82s\n",
      "Episode 32\tAvg Score: 11.53\tMean: 33.39\tMin: 23.61\tMax: 39.40\tTime: 250.80s\n",
      "Episode 33\tAvg Score: 12.19\tMean: 33.45\tMin: 26.85\tMax: 38.97\tTime: 251.49s\n",
      "Episode 34\tAvg Score: 12.83\tMean: 33.85\tMin: 24.92\tMax: 39.18\tTime: 251.72s\n",
      "Episode 35\tAvg Score: 13.47\tMean: 35.23\tMin: 27.91\tMax: 39.45\tTime: 253.19s\n",
      "Episode 36\tAvg Score: 14.10\tMean: 36.14\tMin: 29.59\tMax: 38.74\tTime: 253.69s\n",
      "Episode 37\tAvg Score: 14.70\tMean: 36.49\tMin: 29.77\tMax: 38.97\tTime: 254.08s\n",
      "Episode 38\tAvg Score: 15.31\tMean: 37.84\tMin: 34.49\tMax: 39.64\tTime: 254.60s\n",
      "Episode 39\tAvg Score: 15.90\tMean: 38.33\tMin: 36.93\tMax: 39.55\tTime: 257.49s\n",
      "Episode 40\tAvg Score: 16.45\tMean: 38.01\tMin: 34.46\tMax: 39.57\tTime: 257.79s\n",
      "Episode 40\tAvg Score: 16.45\tTime: 257.79s\n",
      "Episode 41\tAvg Score: 16.97\tMean: 37.62\tMin: 31.08\tMax: 39.59\tTime: 264.38s\n",
      "Episode 42\tAvg Score: 17.47\tMean: 38.14\tMin: 35.49\tMax: 39.56\tTime: 260.38s\n",
      "Episode 43\tAvg Score: 17.95\tMean: 37.78\tMin: 36.62\tMax: 38.83\tTime: 267.19s\n",
      "Episode 44\tAvg Score: 18.42\tMean: 38.54\tMin: 37.59\tMax: 39.46\tTime: 266.90s\n",
      "Episode 45\tAvg Score: 18.86\tMean: 38.59\tMin: 37.32\tMax: 39.47\tTime: 272.41s\n",
      "Episode 46\tAvg Score: 19.28\tMean: 38.08\tMin: 35.94\tMax: 39.46\tTime: 274.77s\n",
      "Episode 47\tAvg Score: 19.70\tMean: 38.94\tMin: 37.88\tMax: 39.52\tTime: 276.10s\n",
      "Episode 48\tAvg Score: 20.10\tMean: 38.83\tMin: 36.43\tMax: 39.60\tTime: 282.19s\n",
      "Episode 49\tAvg Score: 20.48\tMean: 38.75\tMin: 35.73\tMax: 39.53\tTime: 285.39s\n",
      "Episode 50\tAvg Score: 20.85\tMean: 38.84\tMin: 37.45\tMax: 39.57\tTime: 293.69s\n",
      "Episode 50\tAvg Score: 20.85\tTime: 293.69s\n",
      "Episode 51\tAvg Score: 21.20\tMean: 38.73\tMin: 37.65\tMax: 39.35\tTime: 295.39s\n",
      "Episode 52\tAvg Score: 21.54\tMean: 39.01\tMin: 38.06\tMax: 39.62\tTime: 292.38s\n",
      "Episode 53\tAvg Score: 21.86\tMean: 38.66\tMin: 36.88\tMax: 39.56\tTime: 295.18s\n",
      "Episode 54\tAvg Score: 22.18\tMean: 39.13\tMin: 37.70\tMax: 39.61\tTime: 294.81s\n",
      "Episode 55\tAvg Score: 22.49\tMean: 39.22\tMin: 37.99\tMax: 39.62\tTime: 296.40s\n",
      "Episode 56\tAvg Score: 22.78\tMean: 38.68\tMin: 36.74\tMax: 39.59\tTime: 302.30s\n",
      "Episode 57\tAvg Score: 23.07\tMean: 39.14\tMin: 38.37\tMax: 39.56\tTime: 300.33s\n",
      "Episode 58\tAvg Score: 23.34\tMean: 38.62\tMin: 36.08\tMax: 39.40\tTime: 295.22s\n",
      "Episode 59\tAvg Score: 23.60\tMean: 39.02\tMin: 37.72\tMax: 39.48\tTime: 298.01s\n",
      "Episode 60\tAvg Score: 23.86\tMean: 39.14\tMin: 38.48\tMax: 39.58\tTime: 301.99s\n",
      "Episode 60\tAvg Score: 23.86\tTime: 301.99s\n",
      "Episode 61\tAvg Score: 24.11\tMean: 39.12\tMin: 37.45\tMax: 39.62\tTime: 300.19s\n",
      "Episode 62\tAvg Score: 24.35\tMean: 38.97\tMin: 37.94\tMax: 39.60\tTime: 301.48s\n",
      "Episode 63\tAvg Score: 24.58\tMean: 38.79\tMin: 37.53\tMax: 39.61\tTime: 303.21s\n",
      "Episode 64\tAvg Score: 24.80\tMean: 38.63\tMin: 36.76\tMax: 39.64\tTime: 301.89s\n",
      "Episode 65\tAvg Score: 25.02\tMean: 39.02\tMin: 37.38\tMax: 39.60\tTime: 303.11s\n",
      "Episode 66\tAvg Score: 25.22\tMean: 38.59\tMin: 37.84\tMax: 39.59\tTime: 306.38s\n",
      "Episode 67\tAvg Score: 25.43\tMean: 39.05\tMin: 37.46\tMax: 39.53\tTime: 310.49s\n",
      "Episode 68\tAvg Score: 25.63\tMean: 38.76\tMin: 37.73\tMax: 39.48\tTime: 319.99s\n",
      "Episode 69\tAvg Score: 25.82\tMean: 38.80\tMin: 37.18\tMax: 39.49\tTime: 320.68s\n",
      "Episode 70\tAvg Score: 26.01\tMean: 39.10\tMin: 38.03\tMax: 39.62\tTime: 329.39s\n",
      "Episode 70\tAvg Score: 26.01\tTime: 329.39s\n",
      "Episode 71\tAvg Score: 26.19\tMean: 38.96\tMin: 38.13\tMax: 39.59\tTime: 313.49s\n",
      "Episode 72\tAvg Score: 26.36\tMean: 38.68\tMin: 36.85\tMax: 39.63\tTime: 320.80s\n",
      "Episode 73\tAvg Score: 26.53\tMean: 38.41\tMin: 36.62\tMax: 39.39\tTime: 311.00s\n",
      "Episode 74\tAvg Score: 26.70\tMean: 39.41\tMin: 38.53\tMax: 39.62\tTime: 313.97s\n",
      "Episode 75\tAvg Score: 26.86\tMean: 38.70\tMin: 34.95\tMax: 39.63\tTime: 314.70s\n",
      "Episode 76\tAvg Score: 27.02\tMean: 39.05\tMin: 37.60\tMax: 39.61\tTime: 318.28s\n",
      "Episode 77\tAvg Score: 27.18\tMean: 38.84\tMin: 37.01\tMax: 39.57\tTime: 315.80s\n",
      "Episode 78\tAvg Score: 27.32\tMean: 38.69\tMin: 37.08\tMax: 39.53\tTime: 310.18s\n",
      "Episode 79\tAvg Score: 27.47\tMean: 39.14\tMin: 37.28\tMax: 39.62\tTime: 315.51s\n",
      "Episode 80\tAvg Score: 27.62\tMean: 38.87\tMin: 37.98\tMax: 39.62\tTime: 317.69s\n",
      "Episode 80\tAvg Score: 27.62\tTime: 317.69s\n",
      "Episode 81\tAvg Score: 27.76\tMean: 39.00\tMin: 37.75\tMax: 39.64\tTime: 312.38s\n",
      "Episode 82\tAvg Score: 27.89\tMean: 39.03\tMin: 38.21\tMax: 39.66\tTime: 317.00s\n",
      "Episode 83\tAvg Score: 28.02\tMean: 38.30\tMin: 36.59\tMax: 39.26\tTime: 313.78s\n",
      "Episode 84\tAvg Score: 28.15\tMean: 38.76\tMin: 37.18\tMax: 39.59\tTime: 343.29s\n",
      "Episode 85\tAvg Score: 28.27\tMean: 38.37\tMin: 37.20\tMax: 39.65\tTime: 352.89s\n",
      "Episode 86\tAvg Score: 28.39\tMean: 39.27\tMin: 38.25\tMax: 39.54\tTime: 340.89s\n",
      "Episode 87\tAvg Score: 28.52\tMean: 38.89\tMin: 38.08\tMax: 39.67\tTime: 341.01s\n",
      "Episode 88\tAvg Score: 28.64\tMean: 39.29\tMin: 37.58\tMax: 39.66\tTime: 335.76s\n",
      "Episode 89\tAvg Score: 28.75\tMean: 38.86\tMin: 38.24\tMax: 39.43\tTime: 310.60s\n",
      "Episode 90\tAvg Score: 28.86\tMean: 38.61\tMin: 36.55\tMax: 39.58\tTime: 309.78s\n",
      "Episode 90\tAvg Score: 28.86\tTime: 309.78s\n",
      "Episode 91\tAvg Score: 28.96\tMean: 37.77\tMin: 35.85\tMax: 39.50\tTime: 311.80s\n",
      "Episode 92\tAvg Score: 29.06\tMean: 38.05\tMin: 37.06\tMax: 39.52\tTime: 315.09s\n",
      "Episode 93\tAvg Score: 29.16\tMean: 38.51\tMin: 37.36\tMax: 39.47\tTime: 311.41s\n",
      "Episode 94\tAvg Score: 29.25\tMean: 38.00\tMin: 36.29\tMax: 39.52\tTime: 309.82s\n",
      "Episode 95\tAvg Score: 29.36\tMean: 38.97\tMin: 37.44\tMax: 39.61\tTime: 309.78s\n",
      "Episode 96\tAvg Score: 29.45\tMean: 38.47\tMin: 37.17\tMax: 39.42\tTime: 314.69s\n",
      "Episode 97\tAvg Score: 29.54\tMean: 38.18\tMin: 35.90\tMax: 39.51\tTime: 311.49s\n",
      "Episode 98\tAvg Score: 29.63\tMean: 37.93\tMin: 35.89\tMax: 39.08\tTime: 314.60s\n",
      "Episode 99\tAvg Score: 29.72\tMean: 38.42\tMin: 36.90\tMax: 39.33\tTime: 314.18s\n",
      "Episode 100\tAvg Score: 29.81\tMean: 38.67\tMin: 37.36\tMax: 39.56\tTime: 313.01s\n",
      "Episode 100\tAvg Score: 29.81\tTime: 313.01s\n",
      "Episode 101\tAvg Score: 30.19\tMean: 38.99\tMin: 37.89\tMax: 39.62\tTime: 313.48s\n",
      "\n",
      "Environment solved in 101 episodes!\tAverage Score: 30.19\n"
     ]
    }
   ],
   "source": [
    "# Train the agent\n",
    "scores = ddpg()"
   ]
  },
  {
   "cell_type": "code",
   "execution_count": 19,
   "id": "8ccdb596",
   "metadata": {},
   "outputs": [
    {
     "data": {
      "image/png": "[encoded data removed]",
      "text/plain": [
       "<Figure size 640x480 with 1 Axes>"
      ]
     },
     "metadata": {},
     "output_type": "display_data"
    }
   ],
   "source": [
    "# Plot results\n",
    "plt.plot(np.arange(1, len(scores) + 1), scores)\n",
    "plt.ylabel('Score')\n",
    "plt.xlabel('Episode #')\n",
    "plt.title('DDPG Rewards per Episode')\n",
    "plt.savefig('ddpg_rewards_plot.png')\n",
    "plt.show()\n"
   ]
  },
  {
   "cell_type": "markdown",
   "id": "b1d5023f",
   "metadata": {},
   "source": [
    "## Section 9: Environment Cleanup"
   ]
  },
  {
   "cell_type": "code",
   "execution_count": 3,
   "id": "d34b69ce",
   "metadata": {},
   "outputs": [],
   "source": [
    "# Cleanup\n",
    "#env.close()\n",
    "#cleanup_zombie_processes()"
   ]
  },
  {
   "cell_type": "code",
   "execution_count": null,
   "id": "afa7d6b0",
   "metadata": {},
   "outputs": [],
   "source": []
  }
 ],
 "metadata": {
  "kernelspec": {
   "display_name": "Python 3 (ipykernel)",
   "language": "python",
   "name": "python3"
  },
  "language_info": {
   "codemirror_mode": {
    "name": "ipython",
    "version": 3
   },
   "file_extension": ".py",
   "mimetype": "text/x-python",
   "name": "python",
   "nbconvert_exporter": "python",
   "pygments_lexer": "ipython3",
   "version": "3.11.0rc1"
  }
 },
 "nbformat": 4,
 "nbformat_minor": 5
}
